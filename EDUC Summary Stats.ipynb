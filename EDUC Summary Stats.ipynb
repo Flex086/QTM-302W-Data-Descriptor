{
 "cells": [
  {
   "cell_type": "code",
   "execution_count": 7,
   "metadata": {},
   "outputs": [
    {
     "name": "stderr",
     "output_type": "stream",
     "text": [
      "C:\\Users\\Felix Huang\\AppData\\Local\\Temp\\ipykernel_17172\\2007767682.py:5: DtypeWarning: Columns (4,7,8) have mixed types. Specify dtype option on import or set low_memory=False.\n",
      "  df = pd.read_csv(\"C:\\\\Users\\\\Felix Huang\\\\Desktop\\\\QTM 302W\\\\Descriptor Project\\\\nhis_00002.csv\")\n"
     ]
    },
    {
     "name": "stdout",
     "output_type": "stream",
     "text": [
      "         YEAR  SERIAL  STRATA  PSU         NHISHID  HHWEIGHT  PERNUM  \\\n",
      "0        2000     1.0    5061    1      2000000001    2944.0       1   \n",
      "1        2000     1.0    5061    1      2000000001    2944.0       2   \n",
      "2        2000     1.0    5061    1      2000000001    2944.0       3   \n",
      "3        2000     1.0    5061    1      2000000001    2944.0       4   \n",
      "4        2000     1.0    5061    1      2000000001    2944.0       5   \n",
      "...       ...     ...     ...  ...             ...       ...     ...   \n",
      "1951274  2023     NaN     140   48  0002023H073184       NaN       2   \n",
      "1951275  2023     NaN     131    2  0002023H073185       NaN       1   \n",
      "1951276  2023     NaN     139   45  0002023H073189       NaN       1   \n",
      "1951277  2023     NaN     114   91  0002023H073190       NaN       1   \n",
      "1951278  2023     NaN     114   91  0002023H073190       NaN       2   \n",
      "\n",
      "                  NHISPID      HHX  FMX   PX  PERWEIGHT  SAMPWEIGHT  \\\n",
      "0          20000000010101        1  1.0  1.0     3568.0         0.0   \n",
      "1          20000000010102        1  1.0  2.0     3372.0     12409.0   \n",
      "2          20000000010103        1  1.0  3.0     3343.0         0.0   \n",
      "3          20000000010104        1  1.0  4.0     3160.0         0.0   \n",
      "4          20000000010105        1  1.0  5.0     3267.0     15986.0   \n",
      "...                   ...      ...  ...  ...        ...         ...   \n",
      "1951274  0002023H07318420  H073184  NaN  NaN        NaN     11211.0   \n",
      "1951275  0002023H07318510  H073185  NaN  NaN        NaN     10325.0   \n",
      "1951276  0002023H07318910  H073189  NaN  NaN        NaN     12747.0   \n",
      "1951277  0002023H07319010  H073190  NaN  NaN        NaN      6814.0   \n",
      "1951278  0002023H07319020  H073190  NaN  NaN        NaN      6371.0   \n",
      "\n",
      "         LONGWEIGHT  PARTWEIGHT  FWEIGHT  ASTATFLG  CSTATFLG  EDUC  EARNINGS  \n",
      "0               NaN         NaN   3160.0         3         0   201      10.0  \n",
      "1               NaN         NaN   3160.0         1         0   301       2.0  \n",
      "2               NaN         NaN   3160.0         0         3   111       0.0  \n",
      "3               NaN         NaN   3160.0         0         3   107       0.0  \n",
      "4               NaN         NaN   3160.0         0         1     0       0.0  \n",
      "...             ...         ...      ...       ...       ...   ...       ...  \n",
      "1951274         NaN         NaN      NaN         0         1     0       NaN  \n",
      "1951275         NaN         NaN      NaN         1         0   202       NaN  \n",
      "1951276         NaN         NaN      NaN         1         0   301       NaN  \n",
      "1951277         NaN         NaN      NaN         1         0   400       NaN  \n",
      "1951278         NaN         NaN      NaN         0         1     0       NaN  \n",
      "\n",
      "[1951279 rows x 20 columns]\n"
     ]
    }
   ],
   "source": [
    "import pandas as pd\n",
    "import matplotlib.pyplot as plt\n",
    "import seaborn as sns"
   ]
  },
  {
   "cell_type": "code",
   "execution_count": null,
   "metadata": {},
   "outputs": [],
   "source": [
    "df = pd.read_csv(\"C:\\\\Users\\\\Felix Huang\\\\Desktop\\\\QTM 302W\\\\Descriptor Project\\\\nhis_00002.csv\")\n",
    "\n",
    "print(df)"
   ]
  },
  {
   "cell_type": "code",
   "execution_count": 13,
   "metadata": {},
   "outputs": [
    {
     "name": "stdout",
     "output_type": "stream",
     "text": [
      "    YEAR  SERIAL  STRATA  PSU     NHISHID  HHWEIGHT  PERNUM         NHISPID  \\\n",
      "0   2000     1.0    5061    1  2000000001    2944.0       1  20000000010101   \n",
      "1   2000     1.0    5061    1  2000000001    2944.0       2  20000000010102   \n",
      "6   2000     1.0    5061    1  2000000001    2944.0       7  20000000010107   \n",
      "12  2000     3.0    5005    2  2000000003    3383.0       1  20000000030101   \n",
      "13  2000     3.0    5005    2  2000000003    3383.0       2  20000000030102   \n",
      "\n",
      "   HHX  FMX  ...  PERWEIGHT  SAMPWEIGHT  LONGWEIGHT  PARTWEIGHT  FWEIGHT  \\\n",
      "0    1  1.0  ...     3568.0         0.0         NaN         NaN   3160.0   \n",
      "1    1  1.0  ...     3372.0     12409.0         NaN         NaN   3160.0   \n",
      "6    1  1.0  ...     3451.0         0.0         NaN         NaN   3160.0   \n",
      "12   3  1.0  ...     4111.0         0.0         NaN         NaN   4111.0   \n",
      "13   3  1.0  ...     4996.0         0.0         NaN         NaN   4111.0   \n",
      "\n",
      "    ASTATFLG  CSTATFLG  EDUC  EARNINGS  EDUC_NEW  \n",
      "0          3         0   201      10.0         2  \n",
      "1          1         0   301       2.0         3  \n",
      "6          3         0   301       5.0         3  \n",
      "12         2         0   303       5.0         3  \n",
      "13         3         0   400       6.0         4  \n",
      "\n",
      "[5 rows x 21 columns]\n"
     ]
    },
    {
     "name": "stderr",
     "output_type": "stream",
     "text": [
      "C:\\Users\\Felix Huang\\AppData\\Local\\Temp\\ipykernel_17172\\950702386.py:19: SettingWithCopyWarning: \n",
      "A value is trying to be set on a copy of a slice from a DataFrame.\n",
      "Try using .loc[row_indexer,col_indexer] = value instead\n",
      "\n",
      "See the caveats in the documentation: https://pandas.pydata.org/pandas-docs/stable/user_guide/indexing.html#returning-a-view-versus-a-copy\n",
      "  df['EDUC_NEW'] = df['EDUC'].apply(map_education)\n"
     ]
    }
   ],
   "source": [
    "df = df[~df['EARNINGS'].isin([0, 97, 98, 99])] # ~ is the negate sign, negates the statement\n",
    "                                                # When comparing multiple values, use within instead of == and !=\n",
    "\n",
    "def map_education(code):\n",
    "    if code in range(100, 117):\n",
    "        return 1 # Lower than HS\n",
    "    elif code in range(201, 203):\n",
    "        return 2 # HS Graduate\n",
    "    elif code in range(300,304):\n",
    "        return 3 # Some College\n",
    "    elif code in [400]:\n",
    "        return 4 # Bachelor's\n",
    "    elif code in [500, 501, 502]:\n",
    "        return 5 # Master's or Other Professional Degrees\n",
    "    elif code in [503, 505]:\n",
    "        return 6 # PhD\n",
    "    else:\n",
    "        return 0\n",
    "    \n",
    "df['EDUC_NEW'] = df['EDUC'].apply(map_education)\n",
    "    \n",
    "print(df.head())\n",
    "        \n"
   ]
  },
  {
   "cell_type": "code",
   "execution_count": 14,
   "metadata": {},
   "outputs": [
    {
     "name": "stdout",
     "output_type": "stream",
     "text": [
      "              mean       std\n",
      "EDUC_NEW                    \n",
      "0         4.807481  2.378659\n",
      "1         4.267619  2.316498\n",
      "2         5.368826  2.618220\n",
      "3         5.766838  2.862276\n",
      "4         7.404720  2.914890\n",
      "5         8.413916  2.822063\n",
      "6         9.193464  2.626942\n"
     ]
    }
   ],
   "source": [
    "# Assuming 'variable_name' is the column for which you want to compute the mean and std\n",
    "grouped_stats = df.groupby('EDUC_NEW')['EARNINGS'].agg(['mean', 'std']) # There is a groupby method in python, first argument is the variable\n",
    "                                                                        # to groupby, second is the variable you want summary of\n",
    "\n",
    "# Display the results\n",
    "print(grouped_stats)\n"
   ]
  },
  {
   "cell_type": "code",
   "execution_count": 10,
   "metadata": {},
   "outputs": [
    {
     "name": "stdout",
     "output_type": "stream",
     "text": [
      "0          2\n",
      "1          3\n",
      "2          1\n",
      "3          1\n",
      "4          0\n",
      "          ..\n",
      "1951274    0\n",
      "1951275    2\n",
      "1951276    3\n",
      "1951277    4\n",
      "1951278    0\n",
      "Name: EDUC_NEW, Length: 1951279, dtype: int64\n"
     ]
    }
   ],
   "source": []
  }
 ],
 "metadata": {
  "kernelspec": {
   "display_name": "base",
   "language": "python",
   "name": "python3"
  },
  "language_info": {
   "codemirror_mode": {
    "name": "ipython",
    "version": 3
   },
   "file_extension": ".py",
   "mimetype": "text/x-python",
   "name": "python",
   "nbconvert_exporter": "python",
   "pygments_lexer": "ipython3",
   "version": "3.11.4"
  }
 },
 "nbformat": 4,
 "nbformat_minor": 2
}
